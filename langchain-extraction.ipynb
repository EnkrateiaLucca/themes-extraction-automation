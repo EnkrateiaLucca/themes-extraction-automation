{
 "cells": [
  {
   "cell_type": "code",
   "execution_count": 1,
   "metadata": {},
   "outputs": [],
   "source": [
    "from typing import Optional, Dict\n",
    "from langchain_core.pydantic_v1 import BaseModel, Field"
   ]
  },
  {
   "cell_type": "code",
   "execution_count": null,
   "metadata": {},
   "outputs": [],
   "source": [
    "from openai import OpenAI\n",
    "client = OpenAI()\n",
    "\n",
    "def get_response(prompt_question):\n",
    "    response = client.chat.completions.create(\n",
    "        model=\"gpt-3.5-turbo-0125\",\n",
    "        messages=[{\"role\": \"system\", \"content\": \"You are a helpful research and programming assistant\"},\n",
    "                  {\"role\": \"user\", \"content\": prompt_question}]\n",
    "    )\n",
    "    \n",
    "    return response.choices[0].message.content"
   ]
  },
  {
   "cell_type": "code",
   "execution_count": 2,
   "metadata": {},
   "outputs": [],
   "source": [
    "theme = {\n",
    "    \"alias\": {\n",
    "        \"radii\": {\n",
    "            \"radius_100\": \"4px\",\n",
    "            \"radius_200\": \"8px\",\n",
    "            \"radius_300\": \"999px\",\n",
    "        },\n",
    "        \"background_100\": \"#fcf2eb\",\n",
    "        \"background_200\": \"#fadfca\",\n",
    "        \"background_300\": \"#ffdbbf\",\n",
    "        \"background\": {\n",
    "            \"contrast_100\": \"#f29750\",\n",
    "            \"contrast_200\": \"#ed6b06\",\n",
    "        },\n",
    "        \"text_100\": \"#ed6b06\",\n",
    "        \"text_200\": \"#261782\",\n",
    "        \"text_300\": \"#ffffff\",\n",
    "        \"border_100\": \"#ed6b06\",\n",
    "        \"border\": {\n",
    "            \"contrast_100\": \"#a2a2a2\",\n",
    "            \"contrast_200\": \"#5e5851\",\n",
    "        },\n",
    "        \"states\": {\n",
    "            \"success\": \"#ed6b06\",  # have to be Hex because of hexToRGB()\n",
    "            \"neutral\": \"#fcf2eb\",\n",
    "            \"warning\": \"#fc9a4e\",\n",
    "            \"danger\": \"#db4223\",\n",
    "        },\n",
    "    },\n",
    "        \"gradients\": {\n",
    "        # Merge existing gradients with new ones\n",
    "        # **theme_gradients,\n",
    "        \"variant1\": \"linear-gradient(0deg, #120949, #120949)\",\n",
    "        \"variant2\": \"linear-gradient(0deg, #FFFFFF 19.85%, #FFF 118.93%)\",  # Secondary button\n",
    "        \"variant3\": \"linear-gradient(to right, #ed6b06, #ed6b06)\",\n",
    "    },\n",
    "}"
   ]
  },
  {
   "cell_type": "code",
   "execution_count": 9,
   "metadata": {},
   "outputs": [
    {
     "data": {
      "text/plain": [
       "Theme(alias=Alias(radii=Radii(radius_100='4px', radius_200='8px', radius_300='999px'), background_100='#fcf2eb', background_200='#fadfca', background_300='#ffdbbf', background=Background(contrast_100='#f29750', contrast_200='#ed6b06'), text_100='#ed6b06', text_200='#261782', text_300='#ffffff', border_100='#ed6b06', border=Border(contrast_100='#a2a2a2', contrast_200='#5e5851'), states=States(success='#ed6b06', neutral='#fcf2eb', warning='#fc9a4e', danger='#db4223'), gradients=Gradient(variant1='linear-gradient(0deg, #120949, #120949)', variant2='linear-gradient(0deg, #FFFFFF 19.85%, #FFF 118.93%)', variant3='linear-gradient(to right, #ed6b06, #ed6b06)')))"
      ]
     },
     "execution_count": 9,
     "metadata": {},
     "output_type": "execute_result"
    }
   ],
   "source": [
    "\n",
    "\n",
    "class Radii(BaseModel):\n",
    "    radius_100: Optional[str] = Field(..., description=\"Radius size of 100\")\n",
    "    radius_200: Optional[str] = Field(..., description=\"Radius size of 200\")\n",
    "    radius_300: Optional[str] = Field(..., description=\"Radius size of 300\")\n",
    "\n",
    "class Background(BaseModel):\n",
    "    contrast_100: Optional[str] = Field(..., description=\"Background contrast level 100\")\n",
    "    contrast_200: Optional[str] = Field(..., description=\"Background contrast level 200\")\n",
    "\n",
    "class Border(BaseModel):\n",
    "    contrast_100: Optional[str] = Field(..., description=\"Border contrast level 100\")\n",
    "    contrast_200: Optional[str] = Field(..., description=\"Border contrast level 200\")\n",
    "\n",
    "class States(BaseModel):\n",
    "    success: Optional[str] = Field(..., description=\"Color for success state\")\n",
    "    neutral: Optional[str] = Field(..., description=\"Color for neutral state\")\n",
    "    warning: Optional[str] = Field(..., description=\"Color for warning state\")\n",
    "    danger: Optional[str] = Field(..., description=\"Color for danger state\")\n",
    "\n",
    "class Gradient(BaseModel):\n",
    "    variant1: Optional[str] = Field(..., description=\"Gradient variant 1\")\n",
    "    variant2: Optional[str] = Field(..., description=\"Gradient variant 2\")\n",
    "    variant3: Optional[str] = Field(..., description=\"Gradient variant 3\")\n",
    "\n",
    "class Alias(BaseModel):\n",
    "    radii: Optional[Radii] = Field(..., description=\"Radii specifications\")\n",
    "    background_100: Optional[str] = Field(..., description=\"Primary background color\")\n",
    "    background_200: Optional[str] = Field(..., description=\"Secondary background color\")\n",
    "    background_300: Optional[str] = Field(..., description=\"Tertiary background color\")\n",
    "    background: Optional[Background] = Field(..., description=\"Background contrast specifications\")\n",
    "    text_100: Optional[str] = Field(..., description=\"Primary text color\")\n",
    "    text_200: Optional[str] = Field(..., description=\"Secondary text color\")\n",
    "    text_300: Optional[str] = Field(..., description=\"Tertiary text color\")\n",
    "    border_100: Optional[str] = Field(..., description=\"Primary border color\")\n",
    "    border: Optional[Border] = Field(..., description=\"Border contrast specifications\")\n",
    "    states: Optional[States] = Field(..., description=\"State colors\")\n",
    "    gradients: Optional[Gradient] = Field(..., description=\"Gradient specifications\")\n",
    "\n",
    "class Theme(BaseModel):\n",
    "    alias: Optional[Alias] = Field(..., description=\"Alias specifications and semantic meanings\")\n",
    "\n",
    "# Example usage\n",
    "example_theme = Theme(\n",
    "    alias=Alias(\n",
    "        radii=Radii(\n",
    "            radius_100=\"4px\",\n",
    "            radius_200=\"8px\",\n",
    "            radius_300=\"999px\",\n",
    "        ),\n",
    "        background_100=\"#fcf2eb\",\n",
    "        background_200=\"#fadfca\",\n",
    "        background_300=\"#ffdbbf\",\n",
    "        background=Background(\n",
    "            contrast_100=\"#f29750\",\n",
    "            contrast_200=\"#ed6b06\",\n",
    "        ),\n",
    "        text_100=\"#ed6b06\",\n",
    "        text_200=\"#261782\",\n",
    "        text_300=\"#ffffff\",\n",
    "        border_100=\"#ed6b06\",\n",
    "        border=Border(\n",
    "            contrast_100=\"#a2a2a2\",\n",
    "            contrast_200=\"#5e5851\",\n",
    "        ),\n",
    "        states=States(\n",
    "            success=\"#ed6b06\",\n",
    "            neutral=\"#fcf2eb\",\n",
    "            warning=\"#fc9a4e\",\n",
    "            danger=\"#db4223\",\n",
    "        ),\n",
    "        gradients=Gradient(\n",
    "            variant1=\"linear-gradient(0deg, #120949, #120949)\",\n",
    "            variant2=\"linear-gradient(0deg, #FFFFFF 19.85%, #FFF 118.93%)\",\n",
    "            variant3=\"linear-gradient(to right, #ed6b06, #ed6b06)\",\n",
    "    ),\n",
    "        )\n",
    ")\n",
    "example_theme"
   ]
  },
  {
   "cell_type": "code",
   "execution_count": 4,
   "metadata": {},
   "outputs": [],
   "source": [
    "from typing import Optional\n",
    "from langchain_core.prompts import ChatPromptTemplate, MessagesPlaceholder\n",
    "from langchain_core.pydantic_v1 import BaseModel, Field\n",
    "from langchain_core.output_parsers import JsonOutputParser\n",
    "from langchain_openai import ChatOpenAI\n",
    "\n",
    "\n",
    "# Define a custom prompt to provide instructions and any additional context.\n",
    "# 1) You can add examples into the prompt template to improve extraction quality\n",
    "# 2) Introduce additional parameters to take context into account (e.g., include metadata\n",
    "#    about the document from which the text was extracted.)\n",
    "output_parser = JsonOutputParser(pydantic_object=Theme)\n",
    "format_instructions = output_parser.get_format_instructions()\n",
    "prompt = ChatPromptTemplate.from_messages(\n",
    "    [\n",
    "        (\n",
    "            \"system\",\n",
    "            \"\"\"You are an expert extraction algorithm for design themes from pdf presentations.\n",
    "            Only extract relevant information from the pdf output that relates to the creation of the appropriate alias object for styling a page.\n",
    "            You will never return a null value for any section. If you do not know the value of an attribute asked to extract,\n",
    "            return the best option for the context for that attribute's value.\"\"\"\n",
    "        ),\n",
    "        # Please see the how-to about improving performance with\n",
    "        # reference examples.\n",
    "        # MessagesPlaceholder('examples'),\n",
    "        (\"human\", \"{text}\"),\n",
    "    ],\n",
    ")"
   ]
  },
  {
   "cell_type": "code",
   "execution_count": 5,
   "metadata": {},
   "outputs": [],
   "source": [
    "from langchain_openai import ChatOpenAI\n",
    "from langchain_community.chat_models import ChatOllama"
   ]
  },
  {
   "cell_type": "code",
   "execution_count": 11,
   "metadata": {},
   "outputs": [],
   "source": [
    "llm = ChatOpenAI(model=\"gpt-4-0125-preview\", temperature=0)\n",
    "\n",
    "runnable = prompt | llm.with_structured_output(schema=Theme)"
   ]
  },
  {
   "cell_type": "code",
   "execution_count": 9,
   "metadata": {},
   "outputs": [
    {
     "data": {
      "text/plain": [
       "'1\\nMontér Designmanual 2023\\nDesignmanual\\nSist oppda'"
      ]
     },
     "execution_count": 9,
     "metadata": {},
     "output_type": "execute_result"
    }
   ],
   "source": [
    "from langchain_community.document_loaders import PyPDFLoader\n",
    "\n",
    "\n",
    "def extract_pdf_raw_contents(pdfpath):\n",
    "    loader = PyPDFLoader(pdfpath)\n",
    "    documents = loader.load()\n",
    "    raw_contents = \"\"\n",
    "    for doc in documents:\n",
    "        raw_contents+=doc.page_content + \"\\n\"\n",
    "    \n",
    "    return raw_contents\n",
    "        \n",
    "    \n",
    "pdfpath = \"./theme-base-client-file.pdf\"\n",
    "\n",
    "pdf_raw_contents = extract_pdf_raw_contents(pdfpath)\n",
    "pdf_raw_contents[:50]"
   ]
  },
  {
   "cell_type": "code",
   "execution_count": 10,
   "metadata": {},
   "outputs": [
    {
     "data": {
      "text/plain": [
       "Theme(alias=Alias(radii=Radii(radius_100='10mm', radius_200='20mm', radius_300='30mm'), background_100='#F8E08E', background_200='#A59C94', background_300='#C3AD8B', background=Background(contrast_100='#101820', contrast_200='#EE3831'), text_100='#101820', text_200='#EE3831', text_300='#F3D03E', border_100='#101820', border=Border(contrast_100='#EE3831', contrast_200='#F3D03E'), states=States(success='#238823', neutral='#F8E08E', warning='#FFBF00', danger='#D2222D'), gradients=Gradient(variant1='linear-gradient(45deg, #F8E08E, #EE3831)', variant2='linear-gradient(45deg, #A59C94, #C3AD8B)', variant3='linear-gradient(45deg, #101820, #F3D03E)')))"
      ]
     },
     "execution_count": 10,
     "metadata": {},
     "output_type": "execute_result"
    }
   ],
   "source": [
    "output = runnable.invoke({\"text\": pdf_raw_contents})\n",
    "output"
   ]
  },
  {
   "cell_type": "code",
   "execution_count": 11,
   "metadata": {},
   "outputs": [
    {
     "data": {
      "text/plain": [
       "'{\"alias\": {\"radii\": {\"radius_100\": \"10mm\", \"radius_200\": \"20mm\", \"radius_300\": \"30mm\"}, \"background_100\": \"#F8E08E\", \"background_200\": \"#A59C94\", \"background_300\": \"#C3AD8B\", \"background\": {\"contrast_100\": \"#101820\", \"contrast_200\": \"#EE3831\"}, \"text_100\": \"#101820\", \"text_200\": \"#EE3831\", \"text_300\": \"#F3D03E\", \"border_100\": \"#101820\", \"border\": {\"contrast_100\": \"#EE3831\", \"contrast_200\": \"#F3D03E\"}, \"states\": {\"success\": \"#238823\", \"neutral\": \"#F8E08E\", \"warning\": \"#FFBF00\", \"danger\": \"#D2222D\"}, \"gradients\": {\"variant1\": \"linear-gradient(45deg, #F8E08E, #EE3831)\", \"variant2\": \"linear-gradient(45deg, #A59C94, #C3AD8B)\", \"variant3\": \"linear-gradient(45deg, #101820, #F3D03E)\"}}}'"
      ]
     },
     "execution_count": 11,
     "metadata": {},
     "output_type": "execute_result"
    }
   ],
   "source": [
    "output_json = output.json()\n",
    "output_json"
   ]
  },
  {
   "cell_type": "code",
   "execution_count": 12,
   "metadata": {},
   "outputs": [],
   "source": [
    "import json\n",
    "\n",
    "with open('alias-style.json', 'w+') as f:\n",
    "    json.dump(output_json, f)"
   ]
  }
 ],
 "metadata": {
  "kernelspec": {
   "display_name": "otovo-themed-automation",
   "language": "python",
   "name": "otovo-themed-automation"
  },
  "language_info": {
   "codemirror_mode": {
    "name": "ipython",
    "version": 3
   },
   "file_extension": ".py",
   "mimetype": "text/x-python",
   "name": "python",
   "nbconvert_exporter": "python",
   "pygments_lexer": "ipython3",
   "version": "3.12.2"
  }
 },
 "nbformat": 4,
 "nbformat_minor": 2
}
